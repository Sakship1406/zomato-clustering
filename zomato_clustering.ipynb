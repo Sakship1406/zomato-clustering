{
  "nbformat": 4,
  "nbformat_minor": 0,
  "metadata": {
    "colab": {
      "provenance": []
    },
    "kernelspec": {
      "name": "python3",
      "display_name": "Python 3"
    },
    "language_info": {
      "name": "python"
    }
  },
  "cells": [
    {
      "cell_type": "code",
      "execution_count": 1,
      "metadata": {
        "id": "ngmmbuhzYSa1"
      },
      "outputs": [],
      "source": [
        "# 1. Import libraries\n",
        "import pandas as pd\n",
        "import numpy as np\n",
        "import matplotlib.pyplot as plt\n",
        "import seaborn as sns\n",
        "from sklearn.cluster import KMeans\n",
        "from sklearn.preprocessing import StandardScaler\n",
        "from sklearn.feature_extraction.text import CountVectorizer\n",
        "from scipy.sparse import hstack\n"
      ]
    },
    {
      "cell_type": "code",
      "source": [
        "# 2. Load and inspect the dataset\n",
        "df = pd.read_csv(\"/zomato.csv\", encoding='latin-1')\n",
        "df = df[['Restaurant Name', 'Cuisines', 'Average Cost for two', 'Aggregate rating', 'Votes']]\n",
        "df.dropna(subset=['Cuisines'], inplace=True)\n",
        "df.fillna(0, inplace=True)\n"
      ],
      "metadata": {
        "id": "XUhEzJJHYZKT"
      },
      "execution_count": 2,
      "outputs": []
    },
    {
      "cell_type": "code",
      "source": [
        "# Vectorize the Cuisines column\n",
        "vectorizer = CountVectorizer(tokenizer=lambda x: x.split(', '))\n",
        "cuisine_features = vectorizer.fit_transform(df['Cuisines'])\n"
      ],
      "metadata": {
        "colab": {
          "base_uri": "https://localhost:8080/"
        },
        "id": "vKQK3ol3YZM0",
        "outputId": "72997594-c9be-46f4-f4a0-1606a0eb1345"
      },
      "execution_count": 3,
      "outputs": [
        {
          "output_type": "stream",
          "name": "stderr",
          "text": [
            "/usr/local/lib/python3.11/dist-packages/sklearn/feature_extraction/text.py:517: UserWarning: The parameter 'token_pattern' will not be used since 'tokenizer' is not None'\n",
            "  warnings.warn(\n"
          ]
        }
      ]
    },
    {
      "cell_type": "code",
      "source": [
        "#4. Scale numerical features\n",
        "numerical = df[['Average Cost for two', 'Aggregate rating', 'Votes']]\n",
        "scaler = StandardScaler()\n",
        "numerical_scaled = scaler.fit_transform(numerical)\n"
      ],
      "metadata": {
        "id": "Jiv7tuC7YZQS"
      },
      "execution_count": 4,
      "outputs": []
    },
    {
      "cell_type": "code",
      "source": [
        "# 5. Combine all features\n",
        "X = hstack([cuisine_features, numerical_scaled])\n"
      ],
      "metadata": {
        "id": "VEizgNhRYoxR"
      },
      "execution_count": 5,
      "outputs": []
    },
    {
      "cell_type": "code",
      "source": [
        "#6. Apply KMeans Clustering\n",
        "kmeans = KMeans(n_clusters=5, random_state=42)\n",
        "df['Cluster'] = kmeans.fit_predict(X)\n"
      ],
      "metadata": {
        "id": "jQK-8H7RYo0m"
      },
      "execution_count": 6,
      "outputs": []
    },
    {
      "cell_type": "code",
      "source": [
        "#7. Visualize the Clusters\n",
        "sns.countplot(x='Cluster', data=df)\n",
        "plt.title(\"Cuisine Clusters\")\n",
        "plt.show()\n"
      ],
      "metadata": {
        "colab": {
          "base_uri": "https://localhost:8080/",
          "height": 472
        },
        "id": "Js7RffI4ZvD5",
        "outputId": "8ef1b62e-0d15-4bcf-d073-07749179dfd0"
      },
      "execution_count": 7,
      "outputs": [
        {
          "output_type": "display_data",
          "data": {
            "text/plain": [
              "<Figure size 640x480 with 1 Axes>"
            ],
            "image/png": "[encoded data removed]"
          },
          "metadata": {}
        }
      ]
    },
    {
      "cell_type": "code",
      "source": [
        "#8. Recommendation Function\n",
        "def recommend_cuisines(cuisine_name):\n",
        "    sample = df[df['Cuisines'].str.contains(cuisine_name, na=False)]\n",
        "    if sample.empty:\n",
        "        return \"Cuisine not found!\"\n",
        "    cluster = sample['Cluster'].iloc[0]\n",
        "    recommendations = df[(df['Cluster'] == cluster) & (~df['Cuisines'].str.contains(cuisine_name))]\n",
        "    return recommendations[['Restaurant Name', 'Cuisines', 'Aggregate rating']].sort_values(by='Aggregate rating', ascending=False).head(10)\n"
      ],
      "metadata": {
        "id": "PDiSMjj1YtJh"
      },
      "execution_count": 8,
      "outputs": []
    },
    {
      "cell_type": "code",
      "source": [],
      "metadata": {
        "id": "KmVIvUcZYtrL"
      },
      "execution_count": null,
      "outputs": []
    },
    {
      "cell_type": "code",
      "source": [],
      "metadata": {
        "id": "j7y7Y6Y2Yttf"
      },
      "execution_count": null,
      "outputs": []
    },
    {
      "cell_type": "code",
      "source": [],
      "metadata": {
        "id": "ymWEwxQBYtxF"
      },
      "execution_count": null,
      "outputs": []
    },
    {
      "cell_type": "markdown",
      "source": [],
      "metadata": {
        "id": "pqoYJLLIYViX"
      }
    }
  ]
}